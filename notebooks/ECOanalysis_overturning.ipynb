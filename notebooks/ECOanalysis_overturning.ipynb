{
 "cells": [
  {
   "cell_type": "code",
   "execution_count": 1,
   "metadata": {},
   "outputs": [],
   "source": [
    "# Import main packages\n",
    "import sys, os\n",
    "sys.path.insert(1, os.path.abspath('..') )\n",
    "import ECOdiagnostics as eco\n",
    "from ECOdiagnostics.utils import config_parser\n",
    "import xarray as xr\n",
    "import xgcm\n",
    "import numpy as np\n",
    "\n",
    "# Import matplotlib for plotting and functions to override default values\n",
    "import matplotlib.pyplot as plt\n",
    "from ECOanalysis import update_plotstyle, cmap_OB\n",
    "cmap_OB=cmap_OB(); update_plotstyle()"
   ]
  },
  {
   "cell_type": "code",
   "execution_count": null,
   "metadata": {},
   "outputs": [],
   "source": [
    "exp = 'EXP00_5d50'\n",
    "path_to_dataset = 'data/'+exp # Here chosen as relative path, adjust if notebook is executed outside of \n",
    "file_name = exp+'_proc*'       # Import all files with this prefix\n",
    "ds = xr.open_mfdataset(path_to_dataset+file_name, decode_times=False, parallel=True, data_vars='minimal') \n",
    "\n",
    "# get configuration from processing for matching parameters\n",
    "kwargs_proc, kwargs_pre, kwargs_sim = config_parser(config_path='../ECOprocessing/Configs/'+exp, sub_config='sub_test')\n",
    "\n",
    "# define xgcm configuration based on dataset metrics\n",
    "_metrics = {('X',): ['e1tm', 'e1um', 'e1vm', 'e1fm'],\n",
    "     ('Y',): ['e2tm', 'e2um', 'e2vm', 'e2fm'],\n",
    "     ('Z',): ['e3tm', 'e3um', 'e3vm', 'e3wm']}\n",
    "\n",
    "grid = xgcm.Grid(ds, metrics=_metrics, periodic=False) # define xgcm grid\n",
    "grid_ops = eco.Grid_ops(grid, maskargs={'mask':'nan'}) # define gridoperations. With {'mask':'nan'} operations apply a nan-mask, replacing 0 by nan in data\n",
    "\n",
    "# define coordinates to pass to diagnostics\n",
    "_coords = {'X': ds.glamt,\n",
    "           'Y': ds.gphit, \n",
    "           'Z': ds.depth_1d}\n",
    "\n",
    "properties= eco.Properties(grid_ops, _coords, eos_properties=kwargs_sim['eos'])\n",
    "energetics= eco.Energetics(grid_ops, properties)\n",
    "energetics_trend= eco.Energetics_trends(grid_ops,properties,\n",
    "                                             '../ECOdiagnostics/diagnostics/defaults/processes.ini')"
   ]
  },
  {
   "cell_type": "code",
   "execution_count": null,
   "metadata": {},
   "outputs": [],
   "source": []
  }
 ],
 "metadata": {
  "kernelspec": {
   "display_name": "myEnv",
   "language": "python",
   "name": "python3"
  },
  "language_info": {
   "codemirror_mode": {
    "name": "ipython",
    "version": 3
   },
   "file_extension": ".py",
   "mimetype": "text/x-python",
   "name": "python",
   "nbconvert_exporter": "python",
   "pygments_lexer": "ipython3",
   "version": "3.8.2"
  },
  "orig_nbformat": 4,
  "vscode": {
   "interpreter": {
    "hash": "18d653415d9708c7d70b7a1465881039aa79a8525fb2998256d8a83c140cbde9"
   }
  }
 },
 "nbformat": 4,
 "nbformat_minor": 2
}
