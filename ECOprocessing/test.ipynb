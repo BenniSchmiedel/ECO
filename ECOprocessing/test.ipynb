{
 "cells": [
  {
   "cell_type": "code",
   "execution_count": 8,
   "metadata": {},
   "outputs": [
    {
     "name": "stdout",
     "output_type": "stream",
     "text": [
      "Configs/EXP00_test/base.yml\n",
      "Update processing configuration with sub_test\n"
     ]
    },
    {
     "data": {
      "text/plain": [
       "\"datapaths_og = datapaths\\nfor p in range(len(datapaths)):\\n    datapaths[p] = datapaths[p][:-3]+'_temp.nc'\\n    print('Temporary save to %s'%(datapaths[p]))\\nsave()\\n\\nfor f in files_to_remove:\\n    print('Remove ', f)\\n    os.remove(f)\\nfor p in range(len(datapaths)):\\n    print('Rename to %s'%(datapaths_og[p]))\\n    os.rename(datapaths[p],datapaths_og[p])\""
      ]
     },
     "execution_count": 8,
     "metadata": {},
     "output_type": "execute_result"
    }
   ],
   "source": [
    "import sys, os\n",
    "sys.path.insert(1, os.path.abspath('..') )\n",
    "from ECOdiagnostics import utils\n",
    "\n",
    "             \n",
    "\n",
    "kwargs_proc, kwargs_pre, kwargs_sim = utils.config_parser(config_path='Configs/EXP00_test', sub_config='sub_test')\n",
    "kwargs_proc['files_pre']='%s/%s/%s_pre'%(kwargs_proc['output_path'],kwargs_proc['exp_out'],kwargs_proc['exp_out'])\n",
    "#utils.existing_files_handler(kwargs_proc['files_pre'], **kwargs_proc)\n",
    "\n",
    "\"\"\"datapaths_og = datapaths\n",
    "for p in range(len(datapaths)):\n",
    "    datapaths[p] = datapaths[p][:-3]+'_temp.nc'\n",
    "    print('Temporary save to %s'%(datapaths[p]))\n",
    "save()\n",
    "\n",
    "for f in files_to_remove:\n",
    "    print('Remove ', f)\n",
    "    os.remove(f)\n",
    "for p in range(len(datapaths)):\n",
    "    print('Rename to %s'%(datapaths_og[p]))\n",
    "    os.rename(datapaths[p],datapaths_og[p])\"\"\""
   ]
  },
  {
   "cell_type": "code",
   "execution_count": 14,
   "metadata": {},
   "outputs": [],
   "source": [
    "os.rename(\"../ECOanalysis/data//EXP00_test/EXP00_test_pre_8_16_temp.nc\",\n",
    "\"../ECOanalysis/data//EXP00_test/EXP00_test_pre_8_16.nc\")"
   ]
  },
  {
   "cell_type": "code",
   "execution_count": 13,
   "metadata": {},
   "outputs": [],
   "source": [
    "src = ['../ECOanalysis/data//EXP00_test/EXP00_test_pre_0_8_temp.nc', '../ECOanalysis/data//EXP00_test/EXP00_test_pre_8_16_temp.nc',\n",
    " '../ECOanalysis/data//EXP00_test/EXP00_test_pre_16_24_temp.nc', '../ECOanalysis/data//EXP00_test/EXP00_test_pre_24_30_temp.nc']\n",
    "dest = ['../ECOanalysis/data//EXP00_test/EXP00_test_pre_0_8.nc', '../ECOanalysis/data//EXP00_test/EXP00_test_pre_8_16.nc',\n",
    " '../ECOanalysis/data//EXP00_test/EXP00_test_pre_16_24.nc', '../ECOanalysis/data//EXP00_test/EXP00_test_pre_24_30.nc']\n",
    "for i in range(4):\n",
    "    os.rename(src[i],dest[i])"
   ]
  },
  {
   "cell_type": "code",
   "execution_count": 12,
   "metadata": {},
   "outputs": [
    {
     "data": {
      "text/plain": [
       "['../ECOanalysis/data//EXP00_test/EXP00_test_pre_270_360_temp.nc',\n",
       " '../ECOanalysis/data//EXP00_test/EXP00_test_pre_90_180_temp.nc',\n",
       " '../ECOanalysis/data//EXP00_test/EXP00_test_pre_180_270_temp.nc',\n",
       " '../ECOanalysis/data//EXP00_test/EXP00_test_pre_0_90_temp.nc']"
      ]
     },
     "execution_count": 12,
     "metadata": {},
     "output_type": "execute_result"
    }
   ],
   "source": [
    "import glob\n",
    "glob.glob(\"../ECOanalysis/data//EXP00_test/EXP00_test_pre*\")"
   ]
  },
  {
   "cell_type": "code",
   "execution_count": 2,
   "metadata": {},
   "outputs": [
    {
     "name": "stdout",
     "output_type": "stream",
     "text": [
      "Remove  ../ECOanalysis/data//EXP00_test/EXP00_test_pre_0_450.nc\n"
     ]
    }
   ],
   "source": [
    "utils.existing_files_handler(kwargs_proc['files_pre'], **kwargs_proc)"
   ]
  },
  {
   "cell_type": "code",
   "execution_count": 27,
   "metadata": {},
   "outputs": [],
   "source": [
    "import glob\n",
    "filespath_prefix = '../ECOanalysis/data/EXP00_test/EXP00_test_pre'\n",
    "\n",
    "if not glob.glob(filespath_prefix+'*'):\n",
    "    print('skip')\n",
    "else:\n",
    "    time_start = []\n",
    "    time_stop  = []\n",
    "    for f in glob.glob(filespath_prefix+'*'): \n",
    "       file_name_parts = os.path.split(f[:-3])[1].split('_')\n",
    "       time_start.append(int(file_name_parts[-2]))\n",
    "       time_stop.append(int(file_name_parts[-1]))"
   ]
  },
  {
   "cell_type": "code",
   "execution_count": 30,
   "metadata": {},
   "outputs": [],
   "source": [
    "input_text = 'Action required!\\n\\\n",
    "                There is existing data of the selected simulation and timesteps,\\n\\\n",
    "                but override is disabled.\\n\\\n",
    "                Remove everything with timestamp later time_start? [y/n]'\n",
    "choice = ''\n",
    "while choice not in ['y','yes','n','no']:\n",
    "    choice = input(input_text).lower()\n"
   ]
  },
  {
   "cell_type": "code",
   "execution_count": 8,
   "metadata": {},
   "outputs": [
    {
     "name": "stdout",
     "output_type": "stream",
     "text": [
      "RAM 0.058753024\n",
      "RAM 1.057411072\n"
     ]
    }
   ],
   "source": [
    "# Importing the library\n",
    "import psutil\n",
    "import os\n",
    "# Getting % usage of virtual_memory ( 3rd field)\n",
    "#print('RAM memory % used:', psutil.virtual_memory()[2])\n",
    "# Getting usage of virtual_memory in GB ( 4th field)\n",
    "#print('RAM Used (GB):', psutil.virtual_memory()[3]/1000000000)\n",
    "\n",
    "process = psutil.Process(os.getpid())\n",
    "#   mem = process.get_memory_info()[0] / float(2 ** 20)\n",
    "mem = process.memory_full_info()\n",
    "print('RAM', mem)\n",
    "#print('RAM', mem[1]/1000000000)"
   ]
  },
  {
   "cell_type": "code",
   "execution_count": 13,
   "metadata": {},
   "outputs": [],
   "source": [
    "import yaml\n",
    "from utils import drop_from_dict, split_by_chunks, str_or_none, get_number_of_chunks\n",
    "\n",
    "with open(\"Configs/EXP_test/base.yml\", \"r\") as ymlfile:\n",
    "    cfg = yaml.safe_load(ymlfile)\n",
    "    \n",
    "kwargs_proc = cfg['processing']\n",
    "kwargs_pre = cfg['preprocessing']\n",
    "kwargs_sim = cfg['simulation']\n"
   ]
  },
  {
   "cell_type": "code",
   "execution_count": 3,
   "metadata": {},
   "outputs": [
    {
     "name": "stdout",
     "output_type": "stream",
     "text": [
      "exists\n"
     ]
    },
    {
     "ename": "NameError",
     "evalue": "name 'yaml' is not defined",
     "output_type": "error",
     "traceback": [
      "\u001b[0;31m---------------------------------------------------------------------------\u001b[0m",
      "\u001b[0;31mNameError\u001b[0m                                 Traceback (most recent call last)",
      "\u001b[1;32m/proj/marine/users/x_bensc/Analysis/ECOdiagnostics/ECOprocessing/test.ipynb Cell 3\u001b[0m in \u001b[0;36m<cell line: 5>\u001b[0;34m()\u001b[0m\n\u001b[1;32m      <a href='vscode-notebook-cell://ssh-remote%2Btetralith.nsc.liu.se/proj/marine/users/x_bensc/Analysis/ECOdiagnostics/ECOprocessing/test.ipynb#W2sdnNjb2RlLXJlbW90ZQ%3D%3D?line=3'>4</a>\u001b[0m     \u001b[39mprint\u001b[39m(\u001b[39m'\u001b[39m\u001b[39mexists\u001b[39m\u001b[39m'\u001b[39m)\n\u001b[1;32m      <a href='vscode-notebook-cell://ssh-remote%2Btetralith.nsc.liu.se/proj/marine/users/x_bensc/Analysis/ECOdiagnostics/ECOprocessing/test.ipynb#W2sdnNjb2RlLXJlbW90ZQ%3D%3D?line=4'>5</a>\u001b[0m \u001b[39mwith\u001b[39;00m \u001b[39mopen\u001b[39m(\u001b[39m'\u001b[39m\u001b[39mConfigs/EXP_test/\u001b[39m\u001b[39m%s\u001b[39;00m\u001b[39m'\u001b[39m\u001b[39m%\u001b[39m(sub_conf), \u001b[39m'\u001b[39m\u001b[39mr\u001b[39m\u001b[39m'\u001b[39m) \u001b[39mas\u001b[39;00m ymlfile:\n\u001b[0;32m----> <a href='vscode-notebook-cell://ssh-remote%2Btetralith.nsc.liu.se/proj/marine/users/x_bensc/Analysis/ECOdiagnostics/ECOprocessing/test.ipynb#W2sdnNjb2RlLXJlbW90ZQ%3D%3D?line=5'>6</a>\u001b[0m     cfg \u001b[39m=\u001b[39m yaml\u001b[39m.\u001b[39msafe_load(ymlfile)\n\u001b[1;32m      <a href='vscode-notebook-cell://ssh-remote%2Btetralith.nsc.liu.se/proj/marine/users/x_bensc/Analysis/ECOdiagnostics/ECOprocessing/test.ipynb#W2sdnNjb2RlLXJlbW90ZQ%3D%3D?line=6'>7</a>\u001b[0m \u001b[39mif\u001b[39;00m \u001b[39m'\u001b[39m\u001b[39mprocessing\u001b[39m\u001b[39m'\u001b[39m \u001b[39min\u001b[39;00m cfg: kwargs_proc \u001b[39m=\u001b[39m {\u001b[39m*\u001b[39m\u001b[39m*\u001b[39mkwargs_proc,\u001b[39m*\u001b[39m\u001b[39m*\u001b[39mcfg[\u001b[39m'\u001b[39m\u001b[39mprocessing\u001b[39m\u001b[39m'\u001b[39m]}\n\u001b[1;32m      <a href='vscode-notebook-cell://ssh-remote%2Btetralith.nsc.liu.se/proj/marine/users/x_bensc/Analysis/ECOdiagnostics/ECOprocessing/test.ipynb#W2sdnNjb2RlLXJlbW90ZQ%3D%3D?line=7'>8</a>\u001b[0m \u001b[39mif\u001b[39;00m \u001b[39m'\u001b[39m\u001b[39mpreprocessing\u001b[39m\u001b[39m'\u001b[39m \u001b[39min\u001b[39;00m cfg: kwargs_pre \u001b[39m=\u001b[39m {\u001b[39m*\u001b[39m\u001b[39m*\u001b[39mkwargs_pre,\u001b[39m*\u001b[39m\u001b[39m*\u001b[39mcfg[\u001b[39m'\u001b[39m\u001b[39mpreprocessing\u001b[39m\u001b[39m'\u001b[39m]}\n",
      "\u001b[0;31mNameError\u001b[0m: name 'yaml' is not defined"
     ]
    }
   ],
   "source": [
    "args={'c':'sub_test'}\n",
    "sub_conf = args['c'] if args['c'][-4:] == '.yml' else args['c']+'.yml'\n",
    "if os.path.exists('Configs/EXP_test/%s'%(sub_conf)):\n",
    "    print('exists')\n",
    "with open('Configs/EXP_test/%s'%(sub_conf), 'r') as ymlfile:\n",
    "    cfg = yaml.safe_load(ymlfile)\n",
    "if 'processing' in cfg: kwargs_proc = {**kwargs_proc,**cfg['processing']}\n",
    "if 'preprocessing' in cfg: kwargs_pre = {**kwargs_pre,**cfg['preprocessing']}\n",
    "if 'simulation' in cfg: kwargs_sim = {**kwargs_sim,**cfg['simulation']}"
   ]
  },
  {
   "cell_type": "code",
   "execution_count": 24,
   "metadata": {},
   "outputs": [
    {
     "data": {
      "text/plain": [
       "2"
      ]
     },
     "execution_count": 24,
     "metadata": {},
     "output_type": "execute_result"
    }
   ],
   "source": [
    "int(round(ds.t.size/kwargs_proc['n_chunks'],0))"
   ]
  },
  {
   "cell_type": "code",
   "execution_count": 25,
   "metadata": {},
   "outputs": [],
   "source": [
    "import dask.array as da\n",
    "import xarray as xr\n",
    "\n",
    "ds=xr.open_dataset('../ECOanalysis/data/EXP_test_n0.nc',decode_times=False)#,chunks={'t':10})\n",
    "\n",
    "n_chunks=3\n",
    "#ds = ds.chunk({'t':ds.t.size/n_chunks})\n",
    "ds = ds.chunk({'t':int(round(ds.t.size/kwargs_proc['n_chunks'],0))})"
   ]
  },
  {
   "cell_type": "code",
   "execution_count": 18,
   "metadata": {},
   "outputs": [
    {
     "name": "stdout",
     "output_type": "stream",
     "text": [
      "../ECOanalysis/data/EXP00_d_n0.nc\n",
      "../ECOanalysis/data/EXP00_d_n1.nc\n",
      "../ECOanalysis/data/EXP00_d.nc\n",
      "../ECOanalysis/data/EXP00_d_n8.nc\n"
     ]
    }
   ],
   "source": [
    "import glob\n",
    "#os.path.exists(\"../ECOanalysis/data//EXP00_d*\")\n",
    "for f in glob.glob(\"../ECOanalysis/data//EXP00_d*\"):\n",
    "    print(f)"
   ]
  },
  {
   "cell_type": "code",
   "execution_count": 7,
   "metadata": {},
   "outputs": [
    {
     "data": {
      "text/plain": [
       "['../ECOanalysis/data//EXP00_test_raw_t0_10.nc',\n",
       " '../ECOanalysis/data//EXP00_test_raw_t10_20.nc',\n",
       " '../ECOanalysis/data//EXP00_test_raw_t20_30.nc']"
      ]
     },
     "execution_count": 7,
     "metadata": {},
     "output_type": "execute_result"
    }
   ],
   "source": [
    "from utils import create_chunks_path, split_by_chunks\n",
    "kwargs_pre['export_to'] = kwargs_proc['output_path']\n",
    "\n",
    "#ds_chunks = split_by_chunks(ds)\n",
    "ds_chunks, chunk_slices, chunk_paths = split_by_chunks(ds, path_prefix=\"%s/%s\"%(kwargs_pre['export_to'],kwargs_proc['exp_out']))\n",
    "#chunk_paths_out = create_chunks_path(ds, kwargs_proc['n_chunks'])\n",
    "chunk_paths"
   ]
  },
  {
   "cell_type": "code",
   "execution_count": 11,
   "metadata": {},
   "outputs": [
    {
     "name": "stdout",
     "output_type": "stream",
     "text": [
      "0:00:36.683325\n"
     ]
    }
   ],
   "source": [
    "from xnemogcm import open_nemo_and_domain_cfg, get_metrics\n",
    "from datetime import datetime\n",
    "startTime = datetime.now()\n",
    "ds_raw=None\n",
    "if ds_raw is None:\n",
    "    pass\n",
    "else:\n",
    "    del ds_raw\n",
    "ds_raw = open_nemo_and_domain_cfg(\n",
    "        nemo_files=kwargs_proc['nemo_path']+kwargs_proc['exp_in'],\n",
    "        domcfg_files=kwargs_proc['domain_path']+kwargs_proc['exp_in'],\n",
    "        nemo_kwargs={'decode_times':False}#,'parallel':True,'chunks':{'x_c':10,'x_f':10}}#,'y_c':20,'y_f':20,'z_c':18,'z_f':18,}}\n",
    "    )\n",
    "\n",
    "print(datetime.now() - startTime)"
   ]
  },
  {
   "cell_type": "code",
   "execution_count": 6,
   "metadata": {},
   "outputs": [],
   "source": [
    "ds_raw = ds_raw.chunk(ds_raw.dims).isel(t=slice(0,360))\n",
    "\n",
    "kwargs_proc['n_chunks'] = get_number_of_chunks(ds_raw, **kwargs_proc)\n",
    "ds_raw = ds_raw.chunk({'t':int(round(ds_raw.t.size/kwargs_proc['n_chunks'],0))})\n",
    "\n",
    "check_exists='%s/%s/%s_pre_t'%(kwargs_proc['output_path'],kwargs_proc['exp_out'],kwargs_proc['exp_out'])\n",
    "ds_chunks, kwargs_proc['chunk_slices'], kwargs_proc['chunk_paths'] = split_by_chunks(ds_raw, path_prefix=check_exists)"
   ]
  },
  {
   "cell_type": "code",
   "execution_count": 13,
   "metadata": {},
   "outputs": [
    {
     "data": {
      "text/plain": [
       "1088592416"
      ]
     },
     "execution_count": 13,
     "metadata": {},
     "output_type": "execute_result"
    }
   ],
   "source": [
    "ds_raw.nbytes"
   ]
  },
  {
   "cell_type": "code",
   "execution_count": 31,
   "metadata": {},
   "outputs": [],
   "source": [
    "import xarray as xr\n",
    "kwargs_proc['files_pre']='%s/%s/%s_pre_t'%(kwargs_proc['output_path'],kwargs_proc['exp_out'],kwargs_proc['exp_out'])\n",
    "\n",
    "ds = xr.open_mfdataset(kwargs_proc['files_pre']+'*', decode_times=False, parallel = True)#, chunks={'t':})  \n",
    "\n"
   ]
  },
  {
   "cell_type": "code",
   "execution_count": 39,
   "metadata": {},
   "outputs": [],
   "source": [
    "import sys\n",
    "sys.path.insert(1, os.path.abspath('..') )\n",
    "import ECOdiagnostics as eco\n",
    "import xgcm\n",
    "from xbasin.stream_functions import compute_moc\n",
    "\n",
    "_metrics = {('X',): ['e1t', 'e1u', 'e1v', 'e1f'],\n",
    "     ('Y',): ['e2t', 'e2u', 'e2v', 'e2f'],\n",
    "     ('Z',): ['e3t', 'e3u', 'e3v', 'e3w']}\n",
    "    \n",
    "bd = {'boundary': 'fill', 'fill_value': 0}\n",
    "grid = xgcm.Grid(ds, metrics=_metrics, periodic=False)\n",
    "grid_ops = eco.Grid_ops(grid, boundary=bd, maskargs={'mask':'nan'})\n",
    "\n",
    "ds['e3tm_1d']=grid_ops.average(ds.e3t,['Y','X'])\n",
    "grid = grid_ops._update({'Z':ds['e3tm_1d']})\n",
    "    \n",
    "psi = compute_moc(ds.vo,grid)\n",
    "psi = psi.chunk({d: ds.chunks[d] for d in psi.dims})#.chunk(ds.chunks)\n",
    "ds['psi'] = psi\n",
    "ds['psi_maxz'] = psi.max('z_f')\n",
    "ds['psi_dmoc'] = ds['psi_maxz'].isel(y_f=slice(9,None)).max('y_f')\n",
    "ds['psi_tmoc'] = ds['psi_maxz'].isel(y_f=slice(None,9)).max('y_f')"
   ]
  },
  {
   "cell_type": "code",
   "execution_count": 40,
   "metadata": {},
   "outputs": [
    {
     "data": {
      "text/plain": [
       "Frozen({'t': (112, 112, 112, 112, 112, 112, 112, 112, 112, 112, 112, 112, 112, 112, 112, 112, 8), 'z_f': (36,), 'axis_nbounds': (2,), 'y_c': (40,), 'x_c': (20,), 'z_c': (36,), 'x_f': (20,), 'y_f': (40,)})"
      ]
     },
     "execution_count": 40,
     "metadata": {},
     "output_type": "execute_result"
    }
   ],
   "source": [
    "ds.chunks"
   ]
  },
  {
   "cell_type": "code",
   "execution_count": null,
   "metadata": {},
   "outputs": [],
   "source": []
  }
 ],
 "metadata": {
  "kernelspec": {
   "display_name": "myEnv",
   "language": "python",
   "name": "python3"
  },
  "language_info": {
   "codemirror_mode": {
    "name": "ipython",
    "version": 3
   },
   "file_extension": ".py",
   "mimetype": "text/x-python",
   "name": "python",
   "nbconvert_exporter": "python",
   "pygments_lexer": "ipython3",
   "version": "3.8.2"
  },
  "orig_nbformat": 4,
  "vscode": {
   "interpreter": {
    "hash": "18d653415d9708c7d70b7a1465881039aa79a8525fb2998256d8a83c140cbde9"
   }
  }
 },
 "nbformat": 4,
 "nbformat_minor": 2
}
