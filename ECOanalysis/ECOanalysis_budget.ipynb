{
 "cells": [
  {
   "cell_type": "code",
   "execution_count": 1,
   "metadata": {},
   "outputs": [],
   "source": [
    "# Import main packages\n",
    "import sys, os\n",
    "sys.path.insert(1, os.path.abspath('..') )\n",
    "import ECOdiagnostics as eco\n",
    "from ECOdiagnostics.utils import config_parser\n",
    "import xarray as xr\n",
    "import xgcm\n",
    "import numpy as np\n",
    "\n",
    "# Import matplotlib for plotting and functions to override default values\n",
    "import matplotlib.pyplot as plt\n",
    "from ECOanalysis import update_plotstyle, cmap_OB\n",
    "cmap_OB=cmap_OB(); update_plotstyle()"
   ]
  },
  {
   "cell_type": "code",
   "execution_count": 2,
   "metadata": {},
   "outputs": [
    {
     "name": "stdout",
     "output_type": "stream",
     "text": [
      "../ECOprocessing/Configs/EXP00_5d50/base.yml\n",
      "Update processing configuration with sub_5d50\n"
     ]
    }
   ],
   "source": [
    "exp = 'EXP00_5d50'\n",
    "path_to_dataset = 'data/'+exp+'/' # Here chosen as relative path, adjust if notebook is executed outside of \n",
    "file_name_proc = exp+'_proc*'       # Import all files with this prefix\n",
    "file_name_pre = exp+'_pre*'       # Import all files with this prefix\n",
    "ds     = xr.open_mfdataset(path_to_dataset+file_name_proc, decode_times=False, parallel=True, data_vars='minimal') \n",
    "ds_raw = xr.open_mfdataset(path_to_dataset+file_name_pre,  decode_times=False, parallel=True, data_vars='minimal') \n",
    "\n",
    "# get configuration from processing for matching parameters\n",
    "kwargs_proc, kwargs_pre, kwargs_sim = config_parser(config_path='../ECOprocessing/Configs/'+exp, sub_config='sub_5d50')\n",
    "\n",
    "# define xgcm configuration based on dataset metrics\n",
    "_metrics = {('X',): ['e1tm', 'e1um', 'e1vm', 'e1fm'],\n",
    "     ('Y',): ['e2tm', 'e2um', 'e2vm', 'e2fm'],\n",
    "     ('Z',): ['e3tm', 'e3um', 'e3vm', 'e3wm']}\n",
    "\n",
    "grid = xgcm.Grid(ds, metrics=_metrics, periodic=False) # define xgcm grid\n",
    "grid_ops = eco.Grid_ops(grid, maskargs={'mask':'nan'}) # define gridoperations. With {'mask':'nan'} operations apply a nan-mask, replacing 0 by nan in data\n",
    "\n",
    "# define coordinates to pass to diagnostics\n",
    "_coords = {'X': ds.glamt,\n",
    "           'Y': ds.gphit, \n",
    "           'Z': ds.depth_1d}\n",
    "\n",
    "properties= eco.Properties(grid_ops, _coords, eos_properties=kwargs_sim['eos'])\n",
    "energetics= eco.Energetics(grid_ops, properties)\n",
    "energetics_trend= eco.Energetics_trends(grid_ops,properties,\n",
    "                                             '../ECOdiagnostics/diagnostics/defaults/processes.ini')"
   ]
  },
  {
   "cell_type": "code",
   "execution_count": 4,
   "metadata": {},
   "outputs": [
    {
     "ename": "AttributeError",
     "evalue": "'Dataset' object has no attribute 'k_evd'",
     "output_type": "error",
     "traceback": [
      "\u001b[0;31m---------------------------------------------------------------------------\u001b[0m",
      "\u001b[0;31mAttributeError\u001b[0m                            Traceback (most recent call last)",
      "\u001b[1;32m/proj/marine/users/x_bensc/Analysis/ECOdiagnostics/ECOanalysis/ECOanalysis_budget.ipynb Cell 3\u001b[0m in \u001b[0;36m<cell line: 13>\u001b[0;34m()\u001b[0m\n\u001b[1;32m     <a href='vscode-notebook-cell://ssh-remote%2Btetralith.nsc.liu.se/proj/marine/users/x_bensc/Analysis/ECOdiagnostics/ECOanalysis/ECOanalysis_budget.ipynb#W4sdnNjb2RlLXJlbW90ZQ%3D%3D?line=9'>10</a>\u001b[0m dh_SZ_w \u001b[39m=\u001b[39m properties\u001b[39m.\u001b[39mdh_SZ(to_ws, so_ws, depth_w)\n\u001b[1;32m     <a href='vscode-notebook-cell://ssh-remote%2Btetralith.nsc.liu.se/proj/marine/users/x_bensc/Analysis/ECOdiagnostics/ECOanalysis/ECOanalysis_budget.ipynb#W4sdnNjb2RlLXJlbW90ZQ%3D%3D?line=10'>11</a>\u001b[0m dh_TT_w \u001b[39m=\u001b[39m properties\u001b[39m.\u001b[39mdh_TT(depth_w,Z_r\u001b[39m=\u001b[39m\u001b[39m-\u001b[39m\u001b[39m1878\u001b[39m)\n\u001b[0;32m---> <a href='vscode-notebook-cell://ssh-remote%2Btetralith.nsc.liu.se/proj/marine/users/x_bensc/Analysis/ECOdiagnostics/ECOanalysis/ECOanalysis_budget.ipynb#W4sdnNjb2RlLXJlbW90ZQ%3D%3D?line=12'>13</a>\u001b[0m mask_avt\u001b[39m=\u001b[39m grid_ops\u001b[39m.\u001b[39mnan_mask(ds\u001b[39m.\u001b[39;49mk_evd)\u001b[39m*\u001b[39mds\u001b[39m.\u001b[39mk_evd\u001b[39m/\u001b[39m\u001b[39m100\u001b[39m\n\u001b[1;32m     <a href='vscode-notebook-cell://ssh-remote%2Btetralith.nsc.liu.se/proj/marine/users/x_bensc/Analysis/ECOdiagnostics/ECOanalysis/ECOanalysis_budget.ipynb#W4sdnNjb2RlLXJlbW90ZQ%3D%3D?line=13'>14</a>\u001b[0m mask_avt_invert\u001b[39m=\u001b[39m(ds\u001b[39m.\u001b[39mmask_bd_w)\u001b[39m*\u001b[39m((\u001b[39m-\u001b[39m(mask_avt\u001b[39m-\u001b[39m\u001b[39m1\u001b[39m))\u001b[39m.\u001b[39mfillna(\u001b[39m1\u001b[39m))\n",
      "File \u001b[0;32m/proj/marine/users/x_bensc/Analysis/myEnv/lib/python3.8/site-packages/xarray/core/common.py:239\u001b[0m, in \u001b[0;36mAttrAccessMixin.__getattr__\u001b[0;34m(self, name)\u001b[0m\n\u001b[1;32m    237\u001b[0m         \u001b[39mwith\u001b[39;00m suppress(\u001b[39mKeyError\u001b[39;00m):\n\u001b[1;32m    238\u001b[0m             \u001b[39mreturn\u001b[39;00m source[name]\n\u001b[0;32m--> 239\u001b[0m \u001b[39mraise\u001b[39;00m \u001b[39mAttributeError\u001b[39;00m(\n\u001b[1;32m    240\u001b[0m     \u001b[39mf\u001b[39m\u001b[39m\"\u001b[39m\u001b[39m{\u001b[39m\u001b[39mtype(self).__name__!r} object has no attribute \u001b[39m\u001b[39m{name!r}\u001b[39;00m\u001b[39m\"\u001b[39m\n\u001b[1;32m    241\u001b[0m )\n",
      "\u001b[0;31mAttributeError\u001b[0m: 'Dataset' object has no attribute 'k_evd'"
     ]
    }
   ],
   "source": [
    "e3t_shift=ds.e3tm.copy().shift(z_c=1).fillna(0)\n",
    "depth_w =xr.DataArray(data=(- e3t_shift.cumsum('z_c')*ds.mask_bd_t).compute().values, dims=ds.e3wm.dims)\n",
    "\n",
    "to_ws = grid.interp(ds.to_s,'Z',boundary='extend')\n",
    "so_ws = grid.interp(ds.so_s,'Z',boundary='extend')\n",
    "dtdz_w = grid.derivative(ds.to_s,'Z',boundary='extend') \n",
    "\n",
    "dh_TZ_w = properties.dh_TZ(to_ws, so_ws, depth_w)\n",
    "dh_SZ_w = properties.dh_SZ(to_ws, so_ws, depth_w)\n",
    "dh_TT_w = properties.dh_TT(depth_w,Z_r=-1878)\n",
    "\n",
    "mask_avt= grid_ops.nan_mask(ds.k_evd)*ds.k_evd/100\n",
    "mask_avt_invert=(ds.mask_bd_w)*((-(mask_avt-1)).fillna(1))"
   ]
  },
  {
   "cell_type": "code",
   "execution_count": null,
   "metadata": {},
   "outputs": [],
   "source": [
    "#KN2_h_w = (-(dh_TZ_w-dtdz_w*dh_TT_w)*F_tzdf_w-dh_SZ_w*F_szdf_w).compute()\n",
    "F_tzdf_w=grid.cumint(ds_raw.ttrd_zdf,'Z',boundary='fill',fill_value=0).compute()\n",
    "F_szdf_w=grid.cumint(ds_raw.strd_zdf,'Z',boundary='fill',fill_value=0).compute()\n",
    "KN2_h_w_avt =     (-(dh_TZ_w-dtdz_w*dh_TT_w)*F_tzdf_w*mask_avt.fillna(0)- dh_SZ_w*F_szdf_w*mask_avt.fillna(0)).compute()\n",
    "KN2_h_w_avt_inv = (-(dh_TZ_w-dtdz_w*dh_TT_w)*F_tzdf_w*mask_avt_invert   - dh_SZ_w*F_szdf_w*mask_avt_invert).compute()"
   ]
  }
 ],
 "metadata": {
  "kernelspec": {
   "display_name": "myEnv",
   "language": "python",
   "name": "python3"
  },
  "language_info": {
   "codemirror_mode": {
    "name": "ipython",
    "version": 3
   },
   "file_extension": ".py",
   "mimetype": "text/x-python",
   "name": "python",
   "nbconvert_exporter": "python",
   "pygments_lexer": "ipython3",
   "version": "3.8.2 (default, Nov  9 2020, 14:14:25) \n[GCC 6.4.0]"
  },
  "orig_nbformat": 4,
  "vscode": {
   "interpreter": {
    "hash": "18d653415d9708c7d70b7a1465881039aa79a8525fb2998256d8a83c140cbde9"
   }
  }
 },
 "nbformat": 4,
 "nbformat_minor": 2
}
